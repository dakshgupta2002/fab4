{
 "cells": [
  {
   "cell_type": "code",
   "execution_count": 1,
   "id": "397bc02a",
   "metadata": {},
   "outputs": [
    {
     "name": "stderr",
     "output_type": "stream",
     "text": [
      "C:\\Users\\daksh\\anaconda3\\lib\\site-packages\\sklearn\\base.py:450: UserWarning: X does not have valid feature names, but DecisionTreeClassifier was fitted with feature names\n",
      "  warnings.warn(\n",
      "C:\\Users\\daksh\\anaconda3\\lib\\site-packages\\sklearn\\base.py:450: UserWarning: X does not have valid feature names, but DecisionTreeClassifier was fitted with feature names\n",
      "  warnings.warn(\n",
      "C:\\Users\\daksh\\anaconda3\\lib\\site-packages\\sklearn\\base.py:450: UserWarning: X does not have valid feature names, but DecisionTreeClassifier was fitted with feature names\n",
      "  warnings.warn(\n",
      "C:\\Users\\daksh\\anaconda3\\lib\\site-packages\\sklearn\\base.py:450: UserWarning: X does not have valid feature names, but DecisionTreeClassifier was fitted with feature names\n",
      "  warnings.warn(\n"
     ]
    },
    {
     "data": {
      "application/vnd.jupyter.widget-view+json": {
       "model_id": "fb9d2c0b5e2d4ec08e8cfebafb7ea243",
       "version_major": 2,
       "version_minor": 0
      },
      "text/plain": [
       "IntText(value=0, description='Revenue:')"
      ]
     },
     "metadata": {},
     "output_type": "display_data"
    },
    {
     "data": {
      "application/vnd.jupyter.widget-view+json": {
       "model_id": "27226e9813594e40b2d9462331a75c33",
       "version_major": 2,
       "version_minor": 0
      },
      "text/plain": [
       "IntText(value=0, description='Profit% last year:', style=DescriptionStyle(description_width='initial'))"
      ]
     },
     "metadata": {},
     "output_type": "display_data"
    },
    {
     "data": {
      "application/vnd.jupyter.widget-view+json": {
       "model_id": "ac06b795e7fb4af98f35e9fec379134a",
       "version_major": 2,
       "version_minor": 0
      },
      "text/plain": [
       "IntSlider(value=0, description='Interest rate in %', style=SliderStyle(description_width='initial'))"
      ]
     },
     "metadata": {},
     "output_type": "display_data"
    },
    {
     "data": {
      "application/vnd.jupyter.widget-view+json": {
       "model_id": "508329980207495b8d567a7a64e9df40",
       "version_major": 2,
       "version_minor": 0
      },
      "text/plain": [
       "IntText(value=0, description='Amount of Loan', style=DescriptionStyle(description_width='initial'))"
      ]
     },
     "metadata": {},
     "output_type": "display_data"
    },
    {
     "data": {
      "application/vnd.jupyter.widget-view+json": {
       "model_id": "0e06e83ece124329a9d9505901d47b7e",
       "version_major": 2,
       "version_minor": 0
      },
      "text/plain": [
       "IntText(value=0, description='Time to repay', style=DescriptionStyle(description_width='initial'))"
      ]
     },
     "metadata": {},
     "output_type": "display_data"
    },
    {
     "data": {
      "application/vnd.jupyter.widget-view+json": {
       "model_id": "28b096b1589847e8933974ff137909db",
       "version_major": 2,
       "version_minor": 0
      },
      "text/plain": [
       "ToggleButtons(description='Simple interest or not', options=(1, 0), style=ToggleButtonsStyle(description_width…"
      ]
     },
     "metadata": {},
     "output_type": "display_data"
    },
    {
     "data": {
      "application/vnd.jupyter.widget-view+json": {
       "model_id": "452b25c414d44fc0adb2fb9e5c4e59cc",
       "version_major": 2,
       "version_minor": 0
      },
      "text/plain": [
       "IntText(value=0, description='Past debt to repay', style=DescriptionStyle(description_width='initial'))"
      ]
     },
     "metadata": {},
     "output_type": "display_data"
    },
    {
     "data": {
      "application/vnd.jupyter.widget-view+json": {
       "model_id": "a4533c77e0f24acd987f1f92593b611e",
       "version_major": 2,
       "version_minor": 0
      },
      "text/plain": [
       "IntText(value=0, description='Sustainability', style=DescriptionStyle(description_width='initial'))"
      ]
     },
     "metadata": {},
     "output_type": "display_data"
    },
    {
     "data": {
      "application/vnd.jupyter.widget-view+json": {
       "model_id": "8a09c741f1c143bf9f2e35da2794c2aa",
       "version_major": 2,
       "version_minor": 0
      },
      "text/plain": [
       "IntSlider(value=0, description='Competition Scale', max=10, style=SliderStyle(description_width='initial'))"
      ]
     },
     "metadata": {},
     "output_type": "display_data"
    },
    {
     "data": {
      "application/vnd.jupyter.widget-view+json": {
       "model_id": "f61b2f3982d844efad63939f78d02710",
       "version_major": 2,
       "version_minor": 0
      },
      "text/plain": [
       "ToggleButtons(description='Managment Effectivitely', options=(1, 0), style=ToggleButtonsStyle(description_widt…"
      ]
     },
     "metadata": {},
     "output_type": "display_data"
    },
    {
     "data": {
      "application/vnd.jupyter.widget-view+json": {
       "model_id": "21ef1908279d439a9ff78e51404591a6",
       "version_major": 2,
       "version_minor": 0
      },
      "text/plain": [
       "ToggleButtons(description='Whether a startup or not', options=(1, 0), style=ToggleButtonsStyle(description_wid…"
      ]
     },
     "metadata": {},
     "output_type": "display_data"
    },
    {
     "data": {
      "application/vnd.jupyter.widget-view+json": {
       "model_id": "2c52d25ea00f45d1b37ab5fab1a9bf69",
       "version_major": 2,
       "version_minor": 0
      },
      "text/plain": [
       "IntText(value=0, description='Cibil Score', style=DescriptionStyle(description_width='initial'))"
      ]
     },
     "metadata": {},
     "output_type": "display_data"
    }
   ],
   "source": [
    "\n",
    "# ## User Interface Widget\n",
    "\n",
    "# In[16]:\n",
    "\n",
    "from LoanDebtPredictorModel import main\n",
    "import ipywidgets as widgets\n",
    "from IPython.display import display\n",
    "\n",
    "\n",
    "# In[17]:\n",
    "\n",
    "\n",
    "#revenue input\n",
    "revenue = widgets.IntText(description='Revenue:',disabled=False)\n",
    "display(revenue)\n",
    "\n",
    "#Profit% last year input\n",
    "profit_percentage_last_year= widgets.IntText(description='Profit% last year:',disabled=False,style= {'description_width': 'initial'})\n",
    "display(profit_percentage_last_year)\n",
    "\n",
    "#Interest rate input\n",
    "interest_rate= widgets.IntSlider(description=\"Interest rate in %\",disabled=False,style= {'description_width': 'initial'})\n",
    "display(interest_rate)\n",
    "\n",
    "#Amount of Loan input\n",
    "amount_of_loan = widgets.IntText(description=\"Amount of Loan\",disabled=False,style= {'description_width': 'initial'})\n",
    "display(amount_of_loan)\n",
    "\n",
    "#Time to repay input\n",
    "time_to_repay=widgets.IntText(description=\"Time to repay\",disabled=False,style= {'description_width': 'initial'})\n",
    "display(time_to_repay)\n",
    "\n",
    "#simple interest input\n",
    "simple_interest=widgets.ToggleButtons(description=\"Simple interest or not\",options=[1,0],disabled=False,style= {'description_width': 'initial'})\n",
    "display(simple_interest)\n",
    "\n",
    "#Past debt to repay input\n",
    "past_debt_to_repay=widgets.IntText(description=\"Past debt to repay\",disabled=False,style= {'description_width': 'initial'})\n",
    "display(past_debt_to_repay)\n",
    "\n",
    "#Sustainability input\n",
    "sustainability=widgets.IntText(description=\"Sustainability\",disabled=False,style= {'description_width': 'initial'})\n",
    "display(sustainability)\n",
    "\n",
    "#competition scale input\n",
    "competition_scale=widgets.IntSlider(min = 0, max = 10, step = 1, description=\"Competition Scale\",disabled=False,style= {'description_width': 'initial'})\n",
    "display(competition_scale)\n",
    "\n",
    "#managment effectivitely input\n",
    "management_effectivity=widgets.ToggleButtons(description=\"Managment Effectivitely\",options=[1,0],disabled=False,style= {'description_width': 'initial'})\n",
    "display(management_effectivity)\n",
    "\n",
    "#startup input\n",
    "startup = widgets.ToggleButtons(description=\"Whether a startup or not\",options=[1,0],disabled=False,style= {'description_width': 'initial'})\n",
    "display(startup)\n",
    "\n",
    "#cibil score input\n",
    "cibil_score=widgets.IntText(min = 300, max = 900 , description=\"Cibil Score\",disabled=False,style= {'description_width': 'initial'})\n",
    "display(cibil_score)\n"
   ]
  },
  {
   "cell_type": "code",
   "execution_count": 2,
   "id": "23c823f5",
   "metadata": {},
   "outputs": [
    {
     "data": {
      "application/vnd.jupyter.widget-view+json": {
       "model_id": "39866631db834e88b60eb6d04a5fb952",
       "version_major": 2,
       "version_minor": 0
      },
      "text/plain": [
       "Button(description='Check Risk Factor', style=ButtonStyle())"
      ]
     },
     "metadata": {},
     "output_type": "display_data"
    },
    {
     "data": {
      "application/vnd.jupyter.widget-view+json": {
       "model_id": "2003fb2e2fbc4d37ac0569afd772a1be",
       "version_major": 2,
       "version_minor": 0
      },
      "text/plain": [
       "Output()"
      ]
     },
     "metadata": {},
     "output_type": "display_data"
    }
   ],
   "source": [
    "\n",
    "# In[18]:\n",
    "\n",
    "\n",
    "# print(\"Revenue\", revenue.value)\n",
    "# print(\"profit percentage last year\" ,profit_percentage_last_year.value)\n",
    "# print(\"interest rate (in %)\" ,interest_rate.value)\n",
    "# print(\"amount of loan (in INR)\" ,amount_of_loan.value)\n",
    "# print(\"time to repay (in years)\",time_to_repay.value)\n",
    "# print(\"simple interest (1) / Compound Interest (0)\",simple_interest.value)\n",
    "# print(\"past debt to repay (in INR)\",past_debt_to_repay.value)\n",
    "# print(\"sustainability (1/0)\", sustainability.value)\n",
    "# print(\"competition scale (out of 10)\" ,competition_scale.value)\n",
    "# print(\"management effectivity (1/0)\" ,management_effectivity.value)\n",
    "# print(\"startup or not (1/0)\" ,startup.value)\n",
    "# print(\"cibil score (300 - 900)\", cibil_score.value)\n",
    "\n",
    "button = widgets.Button(description=\"Check Risk Factor\")\n",
    "output = widgets.Output()\n",
    "\n",
    "\n",
    "display(button, output)\n",
    "\n",
    "def on_button_clicked(b):\n",
    "    with output:\n",
    "        decision = main(revenue.value, profit_percentage_last_year.value, interest_rate.value \\\n",
    "        , amount_of_loan.value, time_to_repay.value, simple_interest.value, past_debt_to_repay.value, \\\n",
    "        sustainability.value, competition_scale.value, management_effectivity.value, startup.value, cibil_score.value)\n",
    "        if decision <= -1.5:\n",
    "            print(\"High Loss Risk, Please avoid taking new loans. High possibility to fall in debt trap !\")\n",
    "        elif -1.5 < decision < 0:\n",
    "            print(\"Loss Risk, please think twice before taking a new loan\")\n",
    "        elif 0 <= decision < 1.5:\n",
    "            print(\"Small Profit, Avoid taking unnecessary large loans.\")\n",
    "        else:\n",
    "            print(\"Good Vibe! You can surely take loan\")\n",
    "\n",
    "\n",
    "button.on_click(on_button_clicked)"
   ]
  },
  {
   "cell_type": "code",
   "execution_count": 3,
   "id": "39f2b101",
   "metadata": {},
   "outputs": [],
   "source": [
    "!pip freeze > requirements.txt"
   ]
  },
  {
   "cell_type": "code",
   "execution_count": null,
   "id": "1cbfea16",
   "metadata": {},
   "outputs": [],
   "source": []
  }
 ],
 "metadata": {
  "kernelspec": {
   "display_name": "Python 3 (ipykernel)",
   "language": "python",
   "name": "python3"
  },
  "language_info": {
   "codemirror_mode": {
    "name": "ipython",
    "version": 3
   },
   "file_extension": ".py",
   "mimetype": "text/x-python",
   "name": "python",
   "nbconvert_exporter": "python",
   "pygments_lexer": "ipython3",
   "version": "3.9.12"
  }
 },
 "nbformat": 4,
 "nbformat_minor": 5
}
