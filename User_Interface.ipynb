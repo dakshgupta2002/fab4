{
 "cells": [
  {
   "cell_type": "code",
   "execution_count": 8,
   "id": "397bc02a",
   "metadata": {},
   "outputs": [
    {
     "data": {
      "application/vnd.jupyter.widget-view+json": {
       "model_id": "7fdf354e04104394b074b4b9b76e147a",
       "version_major": 2,
       "version_minor": 0
      },
      "text/plain": [
       "IntText(value=0, description='Revenue:')"
      ]
     },
     "metadata": {},
     "output_type": "display_data"
    },
    {
     "data": {
      "application/vnd.jupyter.widget-view+json": {
       "model_id": "4e3f02bcf9284a85ac93556c859e809b",
       "version_major": 2,
       "version_minor": 0
      },
      "text/plain": [
       "IntText(value=0, description='Profit% last year:', style=DescriptionStyle(description_width='initial'))"
      ]
     },
     "metadata": {},
     "output_type": "display_data"
    },
    {
     "data": {
      "application/vnd.jupyter.widget-view+json": {
       "model_id": "8463c64c873548b5aec2f395c26c45a9",
       "version_major": 2,
       "version_minor": 0
      },
      "text/plain": [
       "IntSlider(value=0, description='Interest rate in %', style=SliderStyle(description_width='initial'))"
      ]
     },
     "metadata": {},
     "output_type": "display_data"
    },
    {
     "data": {
      "application/vnd.jupyter.widget-view+json": {
       "model_id": "8d5ece896f55485583a767704a978e1a",
       "version_major": 2,
       "version_minor": 0
      },
      "text/plain": [
       "IntText(value=0, description='Amount of Loan', style=DescriptionStyle(description_width='initial'))"
      ]
     },
     "metadata": {},
     "output_type": "display_data"
    },
    {
     "data": {
      "application/vnd.jupyter.widget-view+json": {
       "model_id": "0285c94de5174c29b951acddbaabc118",
       "version_major": 2,
       "version_minor": 0
      },
      "text/plain": [
       "IntText(value=0, description='Time to repay', style=DescriptionStyle(description_width='initial'))"
      ]
     },
     "metadata": {},
     "output_type": "display_data"
    },
    {
     "data": {
      "application/vnd.jupyter.widget-view+json": {
       "model_id": "255db0993a7845d1b6f135c9e7c9072d",
       "version_major": 2,
       "version_minor": 0
      },
      "text/plain": [
       "ToggleButtons(description='Simple interest or not', options=(1, 0), style=ToggleButtonsStyle(description_width…"
      ]
     },
     "metadata": {},
     "output_type": "display_data"
    },
    {
     "data": {
      "application/vnd.jupyter.widget-view+json": {
       "model_id": "4f6b57420799436d806476c491b93764",
       "version_major": 2,
       "version_minor": 0
      },
      "text/plain": [
       "IntText(value=0, description='Past debt to repay', style=DescriptionStyle(description_width='initial'))"
      ]
     },
     "metadata": {},
     "output_type": "display_data"
    },
    {
     "data": {
      "application/vnd.jupyter.widget-view+json": {
       "model_id": "8f1e1221fa8b473bae222841788c913a",
       "version_major": 2,
       "version_minor": 0
      },
      "text/plain": [
       "IntText(value=0, description='Sustainability', style=DescriptionStyle(description_width='initial'))"
      ]
     },
     "metadata": {},
     "output_type": "display_data"
    },
    {
     "data": {
      "application/vnd.jupyter.widget-view+json": {
       "model_id": "e8b3bab65483451595a610f140019a53",
       "version_major": 2,
       "version_minor": 0
      },
      "text/plain": [
       "IntSlider(value=0, description='Competition Scale', max=10, style=SliderStyle(description_width='initial'))"
      ]
     },
     "metadata": {},
     "output_type": "display_data"
    },
    {
     "data": {
      "application/vnd.jupyter.widget-view+json": {
       "model_id": "a2b686d604c64d6289fd6a3bef6c2c97",
       "version_major": 2,
       "version_minor": 0
      },
      "text/plain": [
       "ToggleButtons(description='Managment Effectivitely', options=(1, 0), style=ToggleButtonsStyle(description_widt…"
      ]
     },
     "metadata": {},
     "output_type": "display_data"
    },
    {
     "data": {
      "application/vnd.jupyter.widget-view+json": {
       "model_id": "48c76daca4404abea89fa48457b650d5",
       "version_major": 2,
       "version_minor": 0
      },
      "text/plain": [
       "ToggleButtons(description='Whether a startup or not', options=(1, 0), style=ToggleButtonsStyle(description_wid…"
      ]
     },
     "metadata": {},
     "output_type": "display_data"
    },
    {
     "data": {
      "application/vnd.jupyter.widget-view+json": {
       "model_id": "ccb7fa4679294e2c958aefed6b0f0b57",
       "version_major": 2,
       "version_minor": 0
      },
      "text/plain": [
       "IntText(value=0, description='Cibil Score', style=DescriptionStyle(description_width='initial'))"
      ]
     },
     "metadata": {},
     "output_type": "display_data"
    }
   ],
   "source": [
    "\n",
    "# ## User Interface Widget\n",
    "\n",
    "# In[16]:\n",
    "\n",
    "from LoanDebtPredictorModel import main\n",
    "import ipywidgets as widgets\n",
    "from IPython.display import display\n",
    "\n",
    "\n",
    "# In[17]:\n",
    "\n",
    "\n",
    "#revenue input\n",
    "revenue = widgets.IntText(description='Revenue:',disabled=False)\n",
    "display(revenue)\n",
    "\n",
    "#Profit% last year input\n",
    "profit_percentage_last_year= widgets.IntText(description='Profit% last year:',disabled=False,style= {'description_width': 'initial'})\n",
    "display(profit_percentage_last_year)\n",
    "\n",
    "#Interest rate input\n",
    "interest_rate= widgets.IntSlider(description=\"Interest rate in %\",disabled=False,style= {'description_width': 'initial'})\n",
    "display(interest_rate)\n",
    "\n",
    "#Amount of Loan input\n",
    "amount_of_loan = widgets.IntText(description=\"Amount of Loan\",disabled=False,style= {'description_width': 'initial'})\n",
    "display(amount_of_loan)\n",
    "\n",
    "#Time to repay input\n",
    "time_to_repay=widgets.IntText(description=\"Time to repay\",disabled=False,style= {'description_width': 'initial'})\n",
    "display(time_to_repay)\n",
    "\n",
    "#simple interest input\n",
    "simple_interest=widgets.ToggleButtons(description=\"Simple interest or not\",options=[1,0],disabled=False,style= {'description_width': 'initial'})\n",
    "display(simple_interest)\n",
    "\n",
    "#Past debt to repay input\n",
    "past_debt_to_repay=widgets.IntText(description=\"Past debt to repay\",disabled=False,style= {'description_width': 'initial'})\n",
    "display(past_debt_to_repay)\n",
    "\n",
    "#Sustainability input\n",
    "sustainability=widgets.IntText(description=\"Sustainability\",disabled=False,style= {'description_width': 'initial'})\n",
    "display(sustainability)\n",
    "\n",
    "#competition scale input\n",
    "competition_scale=widgets.IntSlider(min = 0, max = 10, step = 1, description=\"Competition Scale\",disabled=False,style= {'description_width': 'initial'})\n",
    "display(competition_scale)\n",
    "\n",
    "#managment effectivitely input\n",
    "management_effectivity=widgets.ToggleButtons(description=\"Managment Effectivitely\",options=[1,0],disabled=False,style= {'description_width': 'initial'})\n",
    "display(management_effectivity)\n",
    "\n",
    "#startup input\n",
    "startup = widgets.ToggleButtons(description=\"Whether a startup or not\",options=[1,0],disabled=False,style= {'description_width': 'initial'})\n",
    "display(startup)\n",
    "\n",
    "#cibil score input\n",
    "cibil_score=widgets.IntText(min = 300, max = 900 , description=\"Cibil Score\",disabled=False,style= {'description_width': 'initial'})\n",
    "display(cibil_score)\n"
   ]
  },
  {
   "cell_type": "code",
   "execution_count": 7,
   "id": "23c823f5",
   "metadata": {},
   "outputs": [
    {
     "name": "stdout",
     "output_type": "stream",
     "text": [
      "Revenue 0\n",
      "profit percentage last year 0\n",
      "interest rate (in %) 0\n",
      "amount of loan (in INR) 0\n",
      "time to repay (in years) 0\n",
      "simple interest (1) / Compound Interest (0) 1\n",
      "past debt to repay (in INR) 0\n",
      "sustainability (1/0) 0\n",
      "competition scale (out of 10) 0\n",
      "management effectivity (1/0) 1\n",
      "startup or not (1/0) 1\n",
      "cibil score (300 - 900) 0\n",
      "High Loss Risk, Please avoid taking new loans. High possibility to fall in debt trap !\n"
     ]
    },
    {
     "name": "stderr",
     "output_type": "stream",
     "text": [
      "/home/siddhivinayak/anaconda3/lib/python3.9/site-packages/sklearn/base.py:450: UserWarning: X does not have valid feature names, but DecisionTreeClassifier was fitted with feature names\n",
      "  warnings.warn(\n"
     ]
    }
   ],
   "source": [
    "\n",
    "# In[18]:\n",
    "\n",
    "\n",
    "print(\"Revenue\", revenue.value)\n",
    "print(\"profit percentage last year\" ,profit_percentage_last_year.value)\n",
    "print(\"interest rate (in %)\" ,interest_rate.value)\n",
    "print(\"amount of loan (in INR)\" ,amount_of_loan.value)\n",
    "print(\"time to repay (in years)\",time_to_repay.value)\n",
    "print(\"simple interest (1) / Compound Interest (0)\",simple_interest.value)\n",
    "print(\"past debt to repay (in INR)\",past_debt_to_repay.value)\n",
    "print(\"sustainability (1/0)\", sustainability.value)\n",
    "print(\"competition scale (out of 10)\" ,competition_scale.value)\n",
    "print(\"management effectivity (1/0)\" ,management_effectivity.value)\n",
    "print(\"startup or not (1/0)\" ,startup.value)\n",
    "print(\"cibil score (300 - 900)\", cibil_score.value)\n",
    "\n",
    "output = main(revenue.value, profit_percentage_last_year.value, interest_rate.value \\\n",
    ", amount_of_loan.value, time_to_repay.value, simple_interest.value, past_debt_to_repay.value, \\\n",
    "sustainability.value, competition_scale.value, management_effectivity.value, startup.value, cibil_score.value)\n",
    "\n",
    "\n",
    "# In[19]:\n",
    "\n",
    "\n",
    "if output <= -1.5:\n",
    "    print(\"High Loss Risk, Please avoid taking new loans. High possibility to fall in debt trap !\")\n",
    "elif -1.5 < output < 0:\n",
    "    print(\"Loss Risk, please think twice before taking a new loan\")\n",
    "elif 0 <= output < 1.5:\n",
    "    print(\"Small Profit, Avoid taking unnecessary large loans.\")\n",
    "else:\n",
    "    print(\"Good Vibe! You can surely take loan\")"
   ]
  },
  {
   "cell_type": "code",
   "execution_count": null,
   "id": "39f2b101",
   "metadata": {},
   "outputs": [],
   "source": []
  }
 ],
 "metadata": {
  "kernelspec": {
   "display_name": "Python 3 (ipykernel)",
   "language": "python",
   "name": "python3"
  },
  "language_info": {
   "codemirror_mode": {
    "name": "ipython",
    "version": 3
   },
   "file_extension": ".py",
   "mimetype": "text/x-python",
   "name": "python",
   "nbconvert_exporter": "python",
   "pygments_lexer": "ipython3",
   "version": "3.9.12"
  }
 },
 "nbformat": 4,
 "nbformat_minor": 5
}
