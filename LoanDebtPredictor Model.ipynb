{
 "cells": [
  {
   "cell_type": "markdown",
   "id": "24774b4f",
   "metadata": {},
   "source": [
    "# Model Building"
   ]
  },
  {
   "cell_type": "markdown",
   "id": "e512bb1b",
   "metadata": {},
   "source": [
    "## Implementing Formula on our Dataset"
   ]
  },
  {
   "cell_type": "code",
   "execution_count": 1,
   "id": "1d07d588",
   "metadata": {},
   "outputs": [],
   "source": [
    "import pandas as pd\n",
    "import numpy as np\n",
    "from sklearn import linear_model\n",
    "import matplotlib.pyplot as plt"
   ]
  },
  {
   "cell_type": "code",
   "execution_count": 2,
   "id": "ea9250c7",
   "metadata": {},
   "outputs": [
    {
     "data": {
      "text/html": [
       "<div>\n",
       "<style scoped>\n",
       "    .dataframe tbody tr th:only-of-type {\n",
       "        vertical-align: middle;\n",
       "    }\n",
       "\n",
       "    .dataframe tbody tr th {\n",
       "        vertical-align: top;\n",
       "    }\n",
       "\n",
       "    .dataframe thead th {\n",
       "        text-align: right;\n",
       "    }\n",
       "</style>\n",
       "<table border=\"1\" class=\"dataframe\">\n",
       "  <thead>\n",
       "    <tr style=\"text-align: right;\">\n",
       "      <th></th>\n",
       "      <th>Unnamed: 0</th>\n",
       "      <th>amount_of_loan</th>\n",
       "      <th>interest_rate</th>\n",
       "      <th>time_to_repay</th>\n",
       "      <th>simple_interest</th>\n",
       "      <th>cibil_score</th>\n",
       "      <th>past_debt_to_repay</th>\n",
       "      <th>profit_percentage_last_year</th>\n",
       "      <th>competition_scale</th>\n",
       "      <th>sustainability</th>\n",
       "      <th>startup</th>\n",
       "      <th>management_effectivity</th>\n",
       "      <th>Total_Revenue</th>\n",
       "    </tr>\n",
       "  </thead>\n",
       "  <tbody>\n",
       "    <tr>\n",
       "      <th>0</th>\n",
       "      <td>0</td>\n",
       "      <td>3331276</td>\n",
       "      <td>13</td>\n",
       "      <td>3</td>\n",
       "      <td>1</td>\n",
       "      <td>760</td>\n",
       "      <td>1549433</td>\n",
       "      <td>1</td>\n",
       "      <td>4</td>\n",
       "      <td>1</td>\n",
       "      <td>0</td>\n",
       "      <td>0</td>\n",
       "      <td>10758375</td>\n",
       "    </tr>\n",
       "    <tr>\n",
       "      <th>1</th>\n",
       "      <td>1</td>\n",
       "      <td>6690555</td>\n",
       "      <td>9</td>\n",
       "      <td>2</td>\n",
       "      <td>1</td>\n",
       "      <td>713</td>\n",
       "      <td>1577994</td>\n",
       "      <td>21</td>\n",
       "      <td>4</td>\n",
       "      <td>1</td>\n",
       "      <td>0</td>\n",
       "      <td>1</td>\n",
       "      <td>9835290</td>\n",
       "    </tr>\n",
       "    <tr>\n",
       "      <th>2</th>\n",
       "      <td>2</td>\n",
       "      <td>5039662</td>\n",
       "      <td>12</td>\n",
       "      <td>4</td>\n",
       "      <td>1</td>\n",
       "      <td>761</td>\n",
       "      <td>4555691</td>\n",
       "      <td>34</td>\n",
       "      <td>7</td>\n",
       "      <td>1</td>\n",
       "      <td>1</td>\n",
       "      <td>0</td>\n",
       "      <td>11539840</td>\n",
       "    </tr>\n",
       "    <tr>\n",
       "      <th>3</th>\n",
       "      <td>3</td>\n",
       "      <td>6230007</td>\n",
       "      <td>13</td>\n",
       "      <td>3</td>\n",
       "      <td>0</td>\n",
       "      <td>637</td>\n",
       "      <td>2529141</td>\n",
       "      <td>11</td>\n",
       "      <td>3</td>\n",
       "      <td>0</td>\n",
       "      <td>0</td>\n",
       "      <td>0</td>\n",
       "      <td>7759170</td>\n",
       "    </tr>\n",
       "    <tr>\n",
       "      <th>4</th>\n",
       "      <td>4</td>\n",
       "      <td>1615383</td>\n",
       "      <td>13</td>\n",
       "      <td>2</td>\n",
       "      <td>1</td>\n",
       "      <td>791</td>\n",
       "      <td>1700947</td>\n",
       "      <td>32</td>\n",
       "      <td>8</td>\n",
       "      <td>0</td>\n",
       "      <td>0</td>\n",
       "      <td>0</td>\n",
       "      <td>6482400</td>\n",
       "    </tr>\n",
       "  </tbody>\n",
       "</table>\n",
       "</div>"
      ],
      "text/plain": [
       "   Unnamed: 0  amount_of_loan  interest_rate  time_to_repay  simple_interest  \\\n",
       "0           0         3331276             13              3                1   \n",
       "1           1         6690555              9              2                1   \n",
       "2           2         5039662             12              4                1   \n",
       "3           3         6230007             13              3                0   \n",
       "4           4         1615383             13              2                1   \n",
       "\n",
       "   cibil_score  past_debt_to_repay  profit_percentage_last_year  \\\n",
       "0          760             1549433                            1   \n",
       "1          713             1577994                           21   \n",
       "2          761             4555691                           34   \n",
       "3          637             2529141                           11   \n",
       "4          791             1700947                           32   \n",
       "\n",
       "   competition_scale  sustainability  startup  management_effectivity  \\\n",
       "0                  4               1        0                       0   \n",
       "1                  4               1        0                       1   \n",
       "2                  7               1        1                       0   \n",
       "3                  3               0        0                       0   \n",
       "4                  8               0        0                       0   \n",
       "\n",
       "   Total_Revenue  \n",
       "0       10758375  \n",
       "1        9835290  \n",
       "2       11539840  \n",
       "3        7759170  \n",
       "4        6482400  "
      ]
     },
     "execution_count": 2,
     "metadata": {},
     "output_type": "execute_result"
    }
   ],
   "source": [
    "df = pd.read_csv('FinalDataset.csv')\n",
    "df.head()"
   ]
  },
  {
   "cell_type": "code",
   "execution_count": 3,
   "id": "c6c3022c",
   "metadata": {},
   "outputs": [
    {
     "data": {
      "text/html": [
       "<div>\n",
       "<style scoped>\n",
       "    .dataframe tbody tr th:only-of-type {\n",
       "        vertical-align: middle;\n",
       "    }\n",
       "\n",
       "    .dataframe tbody tr th {\n",
       "        vertical-align: top;\n",
       "    }\n",
       "\n",
       "    .dataframe thead th {\n",
       "        text-align: right;\n",
       "    }\n",
       "</style>\n",
       "<table border=\"1\" class=\"dataframe\">\n",
       "  <thead>\n",
       "    <tr style=\"text-align: right;\">\n",
       "      <th></th>\n",
       "      <th>amount_of_loan</th>\n",
       "      <th>interest_rate</th>\n",
       "      <th>time_to_repay</th>\n",
       "      <th>simple_interest</th>\n",
       "      <th>cibil_score</th>\n",
       "      <th>past_debt_to_repay</th>\n",
       "      <th>profit_percentage_last_year</th>\n",
       "      <th>competition_scale</th>\n",
       "      <th>sustainability</th>\n",
       "      <th>startup</th>\n",
       "      <th>management_effectivity</th>\n",
       "      <th>Total_Revenue</th>\n",
       "    </tr>\n",
       "  </thead>\n",
       "  <tbody>\n",
       "    <tr>\n",
       "      <th>0</th>\n",
       "      <td>3331276</td>\n",
       "      <td>13</td>\n",
       "      <td>3</td>\n",
       "      <td>1</td>\n",
       "      <td>760</td>\n",
       "      <td>1549433</td>\n",
       "      <td>1</td>\n",
       "      <td>4</td>\n",
       "      <td>1</td>\n",
       "      <td>0</td>\n",
       "      <td>0</td>\n",
       "      <td>10758375</td>\n",
       "    </tr>\n",
       "    <tr>\n",
       "      <th>1</th>\n",
       "      <td>6690555</td>\n",
       "      <td>9</td>\n",
       "      <td>2</td>\n",
       "      <td>1</td>\n",
       "      <td>713</td>\n",
       "      <td>1577994</td>\n",
       "      <td>21</td>\n",
       "      <td>4</td>\n",
       "      <td>1</td>\n",
       "      <td>0</td>\n",
       "      <td>1</td>\n",
       "      <td>9835290</td>\n",
       "    </tr>\n",
       "    <tr>\n",
       "      <th>2</th>\n",
       "      <td>5039662</td>\n",
       "      <td>12</td>\n",
       "      <td>4</td>\n",
       "      <td>1</td>\n",
       "      <td>761</td>\n",
       "      <td>4555691</td>\n",
       "      <td>34</td>\n",
       "      <td>7</td>\n",
       "      <td>1</td>\n",
       "      <td>1</td>\n",
       "      <td>0</td>\n",
       "      <td>11539840</td>\n",
       "    </tr>\n",
       "    <tr>\n",
       "      <th>3</th>\n",
       "      <td>6230007</td>\n",
       "      <td>13</td>\n",
       "      <td>3</td>\n",
       "      <td>0</td>\n",
       "      <td>637</td>\n",
       "      <td>2529141</td>\n",
       "      <td>11</td>\n",
       "      <td>3</td>\n",
       "      <td>0</td>\n",
       "      <td>0</td>\n",
       "      <td>0</td>\n",
       "      <td>7759170</td>\n",
       "    </tr>\n",
       "    <tr>\n",
       "      <th>4</th>\n",
       "      <td>1615383</td>\n",
       "      <td>13</td>\n",
       "      <td>2</td>\n",
       "      <td>1</td>\n",
       "      <td>791</td>\n",
       "      <td>1700947</td>\n",
       "      <td>32</td>\n",
       "      <td>8</td>\n",
       "      <td>0</td>\n",
       "      <td>0</td>\n",
       "      <td>0</td>\n",
       "      <td>6482400</td>\n",
       "    </tr>\n",
       "  </tbody>\n",
       "</table>\n",
       "</div>"
      ],
      "text/plain": [
       "   amount_of_loan  interest_rate  time_to_repay  simple_interest  cibil_score  \\\n",
       "0         3331276             13              3                1          760   \n",
       "1         6690555              9              2                1          713   \n",
       "2         5039662             12              4                1          761   \n",
       "3         6230007             13              3                0          637   \n",
       "4         1615383             13              2                1          791   \n",
       "\n",
       "   past_debt_to_repay  profit_percentage_last_year  competition_scale  \\\n",
       "0             1549433                            1                  4   \n",
       "1             1577994                           21                  4   \n",
       "2             4555691                           34                  7   \n",
       "3             2529141                           11                  3   \n",
       "4             1700947                           32                  8   \n",
       "\n",
       "   sustainability  startup  management_effectivity  Total_Revenue  \n",
       "0               1        0                       0       10758375  \n",
       "1               1        0                       1        9835290  \n",
       "2               1        1                       0       11539840  \n",
       "3               0        0                       0        7759170  \n",
       "4               0        0                       0        6482400  "
      ]
     },
     "execution_count": 3,
     "metadata": {},
     "output_type": "execute_result"
    }
   ],
   "source": [
    "df.drop(columns = ['Unnamed: 0'], inplace = True)\n",
    "df.head()"
   ]
  },
  {
   "cell_type": "markdown",
   "id": "dcf36411",
   "metadata": {},
   "source": [
    "## Calculating Risk Factor"
   ]
  },
  {
   "cell_type": "code",
   "execution_count": 4,
   "id": "95da11e5",
   "metadata": {},
   "outputs": [],
   "source": [
    "from LoanCostFunction import loan_cost_prediction"
   ]
  },
  {
   "cell_type": "code",
   "execution_count": 5,
   "id": "9d7e6da6",
   "metadata": {},
   "outputs": [],
   "source": [
    "risk = []\n",
    "cnt = 0\n",
    "for i in range(0, 3000):\n",
    "    risk.append(loan_cost_prediction(df['Total_Revenue'][i], df['profit_percentage_last_year'][i], df['simple_interest'][i], df['interest_rate'][i], df['amount_of_loan'][i], df['time_to_repay'][i], df['past_debt_to_repay'][i], df['sustainability'][i], df['competition_scale'][i], df['management_effectivity'][i], df['startup'][i], df['cibil_score'][i]))"
   ]
  },
  {
   "cell_type": "code",
   "execution_count": 6,
   "id": "d9f1a71c",
   "metadata": {},
   "outputs": [
    {
     "data": {
      "text/html": [
       "<div>\n",
       "<style scoped>\n",
       "    .dataframe tbody tr th:only-of-type {\n",
       "        vertical-align: middle;\n",
       "    }\n",
       "\n",
       "    .dataframe tbody tr th {\n",
       "        vertical-align: top;\n",
       "    }\n",
       "\n",
       "    .dataframe thead th {\n",
       "        text-align: right;\n",
       "    }\n",
       "</style>\n",
       "<table border=\"1\" class=\"dataframe\">\n",
       "  <thead>\n",
       "    <tr style=\"text-align: right;\">\n",
       "      <th></th>\n",
       "      <th>amount_of_loan</th>\n",
       "      <th>interest_rate</th>\n",
       "      <th>time_to_repay</th>\n",
       "      <th>simple_interest</th>\n",
       "      <th>cibil_score</th>\n",
       "      <th>past_debt_to_repay</th>\n",
       "      <th>profit_percentage_last_year</th>\n",
       "      <th>competition_scale</th>\n",
       "      <th>sustainability</th>\n",
       "      <th>startup</th>\n",
       "      <th>management_effectivity</th>\n",
       "      <th>Total_Revenue</th>\n",
       "      <th>Risk_Factor</th>\n",
       "    </tr>\n",
       "  </thead>\n",
       "  <tbody>\n",
       "    <tr>\n",
       "      <th>0</th>\n",
       "      <td>3331276</td>\n",
       "      <td>13</td>\n",
       "      <td>3</td>\n",
       "      <td>1</td>\n",
       "      <td>760</td>\n",
       "      <td>1549433</td>\n",
       "      <td>1</td>\n",
       "      <td>4</td>\n",
       "      <td>1</td>\n",
       "      <td>0</td>\n",
       "      <td>0</td>\n",
       "      <td>10758375</td>\n",
       "      <td>-2</td>\n",
       "    </tr>\n",
       "    <tr>\n",
       "      <th>1</th>\n",
       "      <td>6690555</td>\n",
       "      <td>9</td>\n",
       "      <td>2</td>\n",
       "      <td>1</td>\n",
       "      <td>713</td>\n",
       "      <td>1577994</td>\n",
       "      <td>21</td>\n",
       "      <td>4</td>\n",
       "      <td>1</td>\n",
       "      <td>0</td>\n",
       "      <td>1</td>\n",
       "      <td>9835290</td>\n",
       "      <td>-2</td>\n",
       "    </tr>\n",
       "    <tr>\n",
       "      <th>2</th>\n",
       "      <td>5039662</td>\n",
       "      <td>12</td>\n",
       "      <td>4</td>\n",
       "      <td>1</td>\n",
       "      <td>761</td>\n",
       "      <td>4555691</td>\n",
       "      <td>34</td>\n",
       "      <td>7</td>\n",
       "      <td>1</td>\n",
       "      <td>1</td>\n",
       "      <td>0</td>\n",
       "      <td>11539840</td>\n",
       "      <td>-2</td>\n",
       "    </tr>\n",
       "    <tr>\n",
       "      <th>3</th>\n",
       "      <td>6230007</td>\n",
       "      <td>13</td>\n",
       "      <td>3</td>\n",
       "      <td>0</td>\n",
       "      <td>637</td>\n",
       "      <td>2529141</td>\n",
       "      <td>11</td>\n",
       "      <td>3</td>\n",
       "      <td>0</td>\n",
       "      <td>0</td>\n",
       "      <td>0</td>\n",
       "      <td>7759170</td>\n",
       "      <td>-2</td>\n",
       "    </tr>\n",
       "    <tr>\n",
       "      <th>4</th>\n",
       "      <td>1615383</td>\n",
       "      <td>13</td>\n",
       "      <td>2</td>\n",
       "      <td>1</td>\n",
       "      <td>791</td>\n",
       "      <td>1700947</td>\n",
       "      <td>32</td>\n",
       "      <td>8</td>\n",
       "      <td>0</td>\n",
       "      <td>0</td>\n",
       "      <td>0</td>\n",
       "      <td>6482400</td>\n",
       "      <td>-2</td>\n",
       "    </tr>\n",
       "  </tbody>\n",
       "</table>\n",
       "</div>"
      ],
      "text/plain": [
       "   amount_of_loan  interest_rate  time_to_repay  simple_interest  cibil_score  \\\n",
       "0         3331276             13              3                1          760   \n",
       "1         6690555              9              2                1          713   \n",
       "2         5039662             12              4                1          761   \n",
       "3         6230007             13              3                0          637   \n",
       "4         1615383             13              2                1          791   \n",
       "\n",
       "   past_debt_to_repay  profit_percentage_last_year  competition_scale  \\\n",
       "0             1549433                            1                  4   \n",
       "1             1577994                           21                  4   \n",
       "2             4555691                           34                  7   \n",
       "3             2529141                           11                  3   \n",
       "4             1700947                           32                  8   \n",
       "\n",
       "   sustainability  startup  management_effectivity  Total_Revenue  Risk_Factor  \n",
       "0               1        0                       0       10758375           -2  \n",
       "1               1        0                       1        9835290           -2  \n",
       "2               1        1                       0       11539840           -2  \n",
       "3               0        0                       0        7759170           -2  \n",
       "4               0        0                       0        6482400           -2  "
      ]
     },
     "execution_count": 6,
     "metadata": {},
     "output_type": "execute_result"
    }
   ],
   "source": [
    "df['Risk_Factor'] = risk\n",
    "df.head()"
   ]
  },
  {
   "cell_type": "markdown",
   "id": "3f67aecc",
   "metadata": {},
   "source": [
    "## Model Training"
   ]
  },
  {
   "cell_type": "code",
   "execution_count": 7,
   "id": "a67e30b9",
   "metadata": {},
   "outputs": [],
   "source": [
    "target = df.iloc[:, -1]"
   ]
  },
  {
   "cell_type": "code",
   "execution_count": 8,
   "id": "3f8e5c0a",
   "metadata": {},
   "outputs": [],
   "source": [
    "from sklearn.model_selection import train_test_split\n",
    "X_train, X_test, Y_train, Y_test = train_test_split(df.drop('Risk_Factor',axis='columns'), target, test_size=0.3)"
   ]
  },
  {
   "cell_type": "code",
   "execution_count": 9,
   "id": "b4a9856f",
   "metadata": {},
   "outputs": [
    {
     "data": {
      "text/plain": [
       "DecisionTreeClassifier()"
      ]
     },
     "execution_count": 9,
     "metadata": {},
     "output_type": "execute_result"
    }
   ],
   "source": [
    "from sklearn import tree\n",
    "model = tree.DecisionTreeClassifier()\n",
    "model.fit(X_train, Y_train)"
   ]
  },
  {
   "cell_type": "markdown",
   "id": "5c41f0a0",
   "metadata": {},
   "source": [
    "## Predicting Testcases"
   ]
  },
  {
   "cell_type": "markdown",
   "id": "6dd4ca14",
   "metadata": {},
   "source": [
    "### High Profit"
   ]
  },
  {
   "cell_type": "code",
   "execution_count": 10,
   "id": "799c13b4",
   "metadata": {},
   "outputs": [
    {
     "name": "stderr",
     "output_type": "stream",
     "text": [
      "C:\\Users\\daksh\\anaconda3\\lib\\site-packages\\sklearn\\base.py:450: UserWarning: X does not have valid feature names, but DecisionTreeClassifier was fitted with feature names\n",
      "  warnings.warn(\n"
     ]
    },
    {
     "data": {
      "text/plain": [
       "array([2], dtype=int64)"
      ]
     },
     "execution_count": 10,
     "metadata": {},
     "output_type": "execute_result"
    }
   ],
   "source": [
    "model.predict([[2200000, 10, 8, 0, 850, 2600000, 40, 10, 0, 0, 0, 15000000]])"
   ]
  },
  {
   "cell_type": "markdown",
   "id": "72649dec",
   "metadata": {},
   "source": [
    "### High Risk"
   ]
  },
  {
   "cell_type": "code",
   "execution_count": 11,
   "id": "f1fb4b84",
   "metadata": {},
   "outputs": [
    {
     "name": "stderr",
     "output_type": "stream",
     "text": [
      "C:\\Users\\daksh\\anaconda3\\lib\\site-packages\\sklearn\\base.py:450: UserWarning: X does not have valid feature names, but DecisionTreeClassifier was fitted with feature names\n",
      "  warnings.warn(\n"
     ]
    },
    {
     "data": {
      "text/plain": [
       "array([-2], dtype=int64)"
      ]
     },
     "execution_count": 11,
     "metadata": {},
     "output_type": "execute_result"
    }
   ],
   "source": [
    "model.predict([[8650000, 6, 8, 1, 400, 3500000, 1, 3, 0, 0, 1, 9260000]])"
   ]
  },
  {
   "cell_type": "markdown",
   "id": "ac4a4b1c",
   "metadata": {},
   "source": [
    "### Less Profit"
   ]
  },
  {
   "cell_type": "code",
   "execution_count": 12,
   "id": "b8de56d0",
   "metadata": {},
   "outputs": [
    {
     "name": "stderr",
     "output_type": "stream",
     "text": [
      "C:\\Users\\daksh\\anaconda3\\lib\\site-packages\\sklearn\\base.py:450: UserWarning: X does not have valid feature names, but DecisionTreeClassifier was fitted with feature names\n",
      "  warnings.warn(\n"
     ]
    },
    {
     "data": {
      "text/plain": [
       "array([2], dtype=int64)"
      ]
     },
     "execution_count": 12,
     "metadata": {},
     "output_type": "execute_result"
    }
   ],
   "source": [
    "model.predict([[8400000, 13, 8, 0, 500, 1230000, 25, 6, 0, 0, 1, 13468000]])"
   ]
  },
  {
   "cell_type": "markdown",
   "id": "f7f52c34",
   "metadata": {},
   "source": [
    "### Less Risk"
   ]
  },
  {
   "cell_type": "code",
   "execution_count": 13,
   "id": "3c5be53a",
   "metadata": {},
   "outputs": [
    {
     "name": "stderr",
     "output_type": "stream",
     "text": [
      "C:\\Users\\daksh\\anaconda3\\lib\\site-packages\\sklearn\\base.py:450: UserWarning: X does not have valid feature names, but DecisionTreeClassifier was fitted with feature names\n",
      "  warnings.warn(\n"
     ]
    },
    {
     "data": {
      "text/plain": [
       "array([2], dtype=int64)"
      ]
     },
     "execution_count": 13,
     "metadata": {},
     "output_type": "execute_result"
    }
   ],
   "source": [
    "model.predict([[7800000, 12, 9, 0, 800, 1100000, 25, 10, 1, 0, 0, 9300000]])"
   ]
  },
  {
   "cell_type": "markdown",
   "id": "7266fdb2",
   "metadata": {},
   "source": [
    "### Score of the model"
   ]
  },
  {
   "cell_type": "code",
   "execution_count": 14,
   "id": "91cb21d9",
   "metadata": {},
   "outputs": [
    {
     "data": {
      "text/plain": [
       "0.8711111111111111"
      ]
     },
     "execution_count": 14,
     "metadata": {},
     "output_type": "execute_result"
    }
   ],
   "source": [
    "model.score(X_test, Y_test)"
   ]
  },
  {
   "cell_type": "markdown",
   "id": "6d7481c3",
   "metadata": {},
   "source": [
    "### Making a function for model"
   ]
  },
  {
   "cell_type": "code",
   "execution_count": 15,
   "id": "a233a57f",
   "metadata": {},
   "outputs": [],
   "source": [
    "def main(a,b,c,d,e,f,g,h,i,j,k,l):\n",
    "    return model.predict([[a,b,c,d,e,f,g,h,i,j,k,l]])"
   ]
  },
  {
   "cell_type": "markdown",
   "id": "088f2f58",
   "metadata": {},
   "source": [
    "## User Interface Widget"
   ]
  },
  {
   "cell_type": "code",
   "execution_count": 16,
   "id": "f1974c4e",
   "metadata": {},
   "outputs": [],
   "source": [
    "import ipywidgets as widgets\n",
    "from IPython.display import display"
   ]
  },
  {
   "cell_type": "code",
   "execution_count": 17,
   "id": "56227df6",
   "metadata": {},
   "outputs": [
    {
     "data": {
      "application/vnd.jupyter.widget-view+json": {
       "model_id": "e6b1e179523446eda2ce48b0472c14b3",
       "version_major": 2,
       "version_minor": 0
      },
      "text/plain": [
       "IntText(value=0, description='Revenue:')"
      ]
     },
     "metadata": {},
     "output_type": "display_data"
    },
    {
     "data": {
      "application/vnd.jupyter.widget-view+json": {
       "model_id": "1b4f9f0eeb85486f92589f0098836440",
       "version_major": 2,
       "version_minor": 0
      },
      "text/plain": [
       "IntText(value=0, description='Profit% last year:', style=DescriptionStyle(description_width='initial'))"
      ]
     },
     "metadata": {},
     "output_type": "display_data"
    },
    {
     "data": {
      "application/vnd.jupyter.widget-view+json": {
       "model_id": "08816f0c40bf4c10a0b0fc9f7187041d",
       "version_major": 2,
       "version_minor": 0
      },
      "text/plain": [
       "IntSlider(value=0, description='Interest rate in %', style=SliderStyle(description_width='initial'))"
      ]
     },
     "metadata": {},
     "output_type": "display_data"
    },
    {
     "data": {
      "application/vnd.jupyter.widget-view+json": {
       "model_id": "c7278b84d2df4ddda63707ff1113d3ae",
       "version_major": 2,
       "version_minor": 0
      },
      "text/plain": [
       "IntText(value=0, description='Amount of Loan', style=DescriptionStyle(description_width='initial'))"
      ]
     },
     "metadata": {},
     "output_type": "display_data"
    },
    {
     "data": {
      "application/vnd.jupyter.widget-view+json": {
       "model_id": "cfc8f1214b9d48019e6504e86b905f61",
       "version_major": 2,
       "version_minor": 0
      },
      "text/plain": [
       "IntText(value=0, description='Time to repay', style=DescriptionStyle(description_width='initial'))"
      ]
     },
     "metadata": {},
     "output_type": "display_data"
    },
    {
     "data": {
      "application/vnd.jupyter.widget-view+json": {
       "model_id": "24a6af4023f540d28f185ffafd48fb49",
       "version_major": 2,
       "version_minor": 0
      },
      "text/plain": [
       "ToggleButtons(description='Simple interest or not', options=(1, 0), style=ToggleButtonsStyle(description_width…"
      ]
     },
     "metadata": {},
     "output_type": "display_data"
    },
    {
     "data": {
      "application/vnd.jupyter.widget-view+json": {
       "model_id": "baf3e12f1fea422083f8a0465609d651",
       "version_major": 2,
       "version_minor": 0
      },
      "text/plain": [
       "IntText(value=0, description='Past debt to repay', style=DescriptionStyle(description_width='initial'))"
      ]
     },
     "metadata": {},
     "output_type": "display_data"
    },
    {
     "data": {
      "application/vnd.jupyter.widget-view+json": {
       "model_id": "e6bd5865643f4edea422f1bd4a1213d2",
       "version_major": 2,
       "version_minor": 0
      },
      "text/plain": [
       "IntText(value=0, description='Sustainability', style=DescriptionStyle(description_width='initial'))"
      ]
     },
     "metadata": {},
     "output_type": "display_data"
    },
    {
     "data": {
      "application/vnd.jupyter.widget-view+json": {
       "model_id": "bd0002dcfa594b06bc4fe7c368eb1a9f",
       "version_major": 2,
       "version_minor": 0
      },
      "text/plain": [
       "IntSlider(value=0, description='Competition Scale', max=10, style=SliderStyle(description_width='initial'))"
      ]
     },
     "metadata": {},
     "output_type": "display_data"
    },
    {
     "data": {
      "application/vnd.jupyter.widget-view+json": {
       "model_id": "83ec39e43c8b49a4a4a1025c73bb86a0",
       "version_major": 2,
       "version_minor": 0
      },
      "text/plain": [
       "ToggleButtons(description='Managment Effectivitely', options=(1, 0), style=ToggleButtonsStyle(description_widt…"
      ]
     },
     "metadata": {},
     "output_type": "display_data"
    },
    {
     "data": {
      "application/vnd.jupyter.widget-view+json": {
       "model_id": "be431e53fde04ee8beb67633a8d3ab02",
       "version_major": 2,
       "version_minor": 0
      },
      "text/plain": [
       "ToggleButtons(description='Whether a startup or not', options=(1, 0), style=ToggleButtonsStyle(description_wid…"
      ]
     },
     "metadata": {},
     "output_type": "display_data"
    },
    {
     "data": {
      "application/vnd.jupyter.widget-view+json": {
       "model_id": "2344c4b29ec440e4bad17ebf7627a185",
       "version_major": 2,
       "version_minor": 0
      },
      "text/plain": [
       "IntText(value=0, description='Cibil Score', style=DescriptionStyle(description_width='initial'))"
      ]
     },
     "metadata": {},
     "output_type": "display_data"
    }
   ],
   "source": [
    "#revenue input\n",
    "revenue = widgets.IntText(description='Revenue:',disabled=False)\n",
    "display(revenue)\n",
    "\n",
    "#Profit% last year input\n",
    "profit_percentage_last_year= widgets.IntText(description='Profit% last year:',disabled=False,style= {'description_width': 'initial'})\n",
    "display(profit_percentage_last_year)\n",
    "\n",
    "#Interest rate input\n",
    "interest_rate= widgets.IntSlider(description=\"Interest rate in %\",disabled=False,style= {'description_width': 'initial'})\n",
    "display(interest_rate)\n",
    "\n",
    "#Amount of Loan input\n",
    "amount_of_loan = widgets.IntText(description=\"Amount of Loan\",disabled=False,style= {'description_width': 'initial'})\n",
    "display(amount_of_loan)\n",
    "\n",
    "#Time to repay input\n",
    "time_to_repay=widgets.IntText(description=\"Time to repay\",disabled=False,style= {'description_width': 'initial'})\n",
    "display(time_to_repay)\n",
    "\n",
    "#simple interest input\n",
    "simple_interest=widgets.ToggleButtons(description=\"Simple interest or not\",options=[1,0],disabled=False,style= {'description_width': 'initial'})\n",
    "display(simple_interest)\n",
    "\n",
    "#Past debt to repay input\n",
    "past_debt_to_repay=widgets.IntText(description=\"Past debt to repay\",disabled=False,style= {'description_width': 'initial'})\n",
    "display(past_debt_to_repay)\n",
    "\n",
    "#Sustainability input\n",
    "sustainability=widgets.IntText(description=\"Sustainability\",disabled=False,style= {'description_width': 'initial'})\n",
    "display(sustainability)\n",
    "\n",
    "#competition scale input\n",
    "competition_scale=widgets.IntSlider(min = 0, max = 10, step = 1, description=\"Competition Scale\",disabled=False,style= {'description_width': 'initial'})\n",
    "display(competition_scale)\n",
    "\n",
    "#managment effectivitely input\n",
    "management_effectivity=widgets.ToggleButtons(description=\"Managment Effectivitely\",options=[1,0],disabled=False,style= {'description_width': 'initial'})\n",
    "display(management_effectivity)\n",
    "\n",
    "#startup input\n",
    "startup = widgets.ToggleButtons(description=\"Whether a startup or not\",options=[1,0],disabled=False,style= {'description_width': 'initial'})\n",
    "display(startup)\n",
    "\n",
    "#cibil score input\n",
    "cibil_score=widgets.IntText(min = 300, max = 900 , description=\"Cibil Score\",disabled=False,style= {'description_width': 'initial'})\n",
    "display(cibil_score)"
   ]
  },
  {
   "cell_type": "code",
   "execution_count": 18,
   "id": "7da53fa2",
   "metadata": {},
   "outputs": [
    {
     "name": "stdout",
     "output_type": "stream",
     "text": [
      "Revenue 0\n",
      "profit percentage last year 0\n",
      "interest rate (in %) 0\n",
      "amount of loan (in INR) 0\n",
      "time to repay (in years) 0\n",
      "simple interest (1) / Compound Interest (0) 1\n",
      "past debt to repay (in INR) 0\n",
      "sustainability (1/0) 0\n",
      "competition scale (out of 10) 0\n",
      "management effectivity (1/0) 1\n",
      "startup or not (1/0) 1\n",
      "cibil score (300 - 900) 0\n"
     ]
    },
    {
     "name": "stderr",
     "output_type": "stream",
     "text": [
      "C:\\Users\\daksh\\anaconda3\\lib\\site-packages\\sklearn\\base.py:450: UserWarning: X does not have valid feature names, but DecisionTreeClassifier was fitted with feature names\n",
      "  warnings.warn(\n"
     ]
    }
   ],
   "source": [
    "# print(\"Revenue\", revenue.value)\n",
    "# print(\"profit percentage last year\" ,profit_percentage_last_year.value)\n",
    "# print(\"interest rate (in %)\" ,interest_rate.value)\n",
    "# print(\"amount of loan (in INR)\" ,amount_of_loan.value)\n",
    "# print(\"time to repay (in years)\",time_to_repay.value)\n",
    "# print(\"simple interest (1) / Compound Interest (0)\",simple_interest.value)\n",
    "# print(\"past debt to repay (in INR)\",past_debt_to_repay.value)\n",
    "# print(\"sustainability (1/0)\", sustainability.value)\n",
    "# print(\"competition scale (out of 10)\" ,competition_scale.value)\n",
    "# print(\"management effectivity (1/0)\" ,management_effectivity.value)\n",
    "# print(\"startup or not (1/0)\" ,startup.value)\n",
    "# print(\"cibil score (300 - 900)\", cibil_score.value)\n",
    "\n",
    "button = widgets.Button(description=\"Check Risk Factor\")\n",
    "output = widgets.Output()\n",
    "\n",
    "display(button, output)\n",
    "\n",
    "def on_button_clicked(b):\n",
    "    with output:\n",
    "        \n",
    "        decision = main(revenue.value, profit_percentage_last_year.value, interest_rate.value \\\n",
    "        , amount_of_loan.value, time_to_repay.value, simple_interest.value, past_debt_to_repay.value, \\\n",
    "        sustainability.value, competition_scale.value, management_effectivity.value, startup.value, cibil_score.value)\n",
    "        if decision <= -1.5:\n",
    "            print(\"High Loss Risk, Please avoid taking new loans. High possibility to fall in debt trap !\")\n",
    "        elif -1.5 < decision < 0:\n",
    "            print(\"Loss Risk, please think twice before taking a new loan\")\n",
    "        elif 0 <= decision < 1.5:\n",
    "            print(\"Small Profit, Avoid taking unnecessary large loans.\")\n",
    "        else:\n",
    "            print(\"Good Vibe! You can surely take loan\")\n",
    "\n",
    "\n",
    "button.on_click(on_button_clicked)\n",
    "\n"
   ]
  },
  {
   "cell_type": "code",
   "execution_count": 19,
   "id": "de874c18",
   "metadata": {},
   "outputs": [
    {
     "name": "stdout",
     "output_type": "stream",
     "text": [
      "Good Vibe! You can surely take loan\n"
     ]
    }
   ],
   "source": []
  },
  {
   "cell_type": "code",
   "execution_count": 20,
   "id": "fe59b022",
   "metadata": {},
   "outputs": [],
   "source": [
    "!pip freeze > requirements.txt"
   ]
  },
  {
   "cell_type": "code",
   "execution_count": null,
   "id": "6708b8a3",
   "metadata": {},
   "outputs": [],
   "source": []
  },
  {
   "cell_type": "code",
   "execution_count": null,
   "id": "0a8d6744",
   "metadata": {},
   "outputs": [],
   "source": []
  },
  {
   "cell_type": "code",
   "execution_count": null,
   "id": "388c0ca3",
   "metadata": {},
   "outputs": [],
   "source": []
  },
  {
   "cell_type": "code",
   "execution_count": null,
   "id": "da6c96cd",
   "metadata": {},
   "outputs": [],
   "source": []
  },
  {
   "cell_type": "code",
   "execution_count": null,
   "id": "fee53ba2",
   "metadata": {},
   "outputs": [],
   "source": []
  },
  {
   "cell_type": "code",
   "execution_count": null,
   "id": "851c6f78",
   "metadata": {},
   "outputs": [],
   "source": []
  },
  {
   "cell_type": "code",
   "execution_count": null,
   "id": "e1b499f7",
   "metadata": {},
   "outputs": [],
   "source": []
  },
  {
   "cell_type": "code",
   "execution_count": null,
   "id": "581e3f6b",
   "metadata": {},
   "outputs": [],
   "source": []
  },
  {
   "cell_type": "code",
   "execution_count": null,
   "id": "feb29f47",
   "metadata": {},
   "outputs": [],
   "source": []
  },
  {
   "cell_type": "code",
   "execution_count": null,
   "id": "cbd3baf9",
   "metadata": {},
   "outputs": [],
   "source": []
  },
  {
   "cell_type": "code",
   "execution_count": null,
   "id": "d21339a6",
   "metadata": {},
   "outputs": [],
   "source": []
  },
  {
   "cell_type": "code",
   "execution_count": null,
   "id": "01d5ce20",
   "metadata": {},
   "outputs": [],
   "source": []
  },
  {
   "cell_type": "code",
   "execution_count": null,
   "id": "0adc1565",
   "metadata": {},
   "outputs": [],
   "source": []
  },
  {
   "cell_type": "code",
   "execution_count": null,
   "id": "78826250",
   "metadata": {},
   "outputs": [],
   "source": []
  }
 ],
 "metadata": {
  "kernelspec": {
   "display_name": "Python 3 (ipykernel)",
   "language": "python",
   "name": "python3"
  },
  "language_info": {
   "codemirror_mode": {
    "name": "ipython",
    "version": 3
   },
   "file_extension": ".py",
   "mimetype": "text/x-python",
   "name": "python",
   "nbconvert_exporter": "python",
   "pygments_lexer": "ipython3",
   "version": "3.9.12"
  }
 },
 "nbformat": 4,
 "nbformat_minor": 5
}
